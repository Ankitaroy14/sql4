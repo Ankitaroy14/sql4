{
 "cells": [
  {
   "cell_type": "code",
   "execution_count": null,
   "id": "f71c2ecb",
   "metadata": {},
   "outputs": [],
   "source": [
    "Q-1. Write an SQL query to print the FIRST_NAME from Worker table after replacing ‘a’\n",
    "with ‘A’.\n",
    "\n",
    "cursor.execute(\"Select REPLACE(FIRST_NAME,'a','A') from Worker\")\n",
    "\n",
    "2) \n",
    "Write an SQL query to print all Worker details from the Worker table order by\n",
    "FIRST_NAME Ascending and DEPARTMENT Descending.\n",
    "\n",
    "cursor.execute(\"Select * from Worker order by FIRST_NAME asc,DEPARTMENT desc\")\n",
    "\n",
    "\n",
    "3) Write an SQL query to fetch the names of workers who earn the highest salary.\n",
    "\n",
    "cursor.execute(\" select first_name from Worker where salary = (select MAX(salary) from Worker)\")\n"
   ]
  }
 ],
 "metadata": {
  "kernelspec": {
   "display_name": "Python 3 (ipykernel)",
   "language": "python",
   "name": "python3"
  },
  "language_info": {
   "codemirror_mode": {
    "name": "ipython",
    "version": 3
   },
   "file_extension": ".py",
   "mimetype": "text/x-python",
   "name": "python",
   "nbconvert_exporter": "python",
   "pygments_lexer": "ipython3",
   "version": "3.9.7"
  }
 },
 "nbformat": 4,
 "nbformat_minor": 5
}
